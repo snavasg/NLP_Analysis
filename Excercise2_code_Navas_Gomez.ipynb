{
  "nbformat": 4,
  "nbformat_minor": 0,
  "metadata": {
    "colab": {
      "provenance": [],
      "authorship_tag": "ABX9TyOQbsmpums239dVI8zk9+4e",
      "include_colab_link": true
    },
    "kernelspec": {
      "name": "python3",
      "display_name": "Python 3"
    },
    "language_info": {
      "name": "python"
    }
  },
  "cells": [
    {
      "cell_type": "markdown",
      "metadata": {
        "id": "view-in-github",
        "colab_type": "text"
      },
      "source": [
        "<a href=\"https://colab.research.google.com/github/snavasg/NLP_Analysis/blob/main/Excercise2_code_Navas_Gomez.ipynb\" target=\"_parent\"><img src=\"https://colab.research.google.com/assets/colab-badge.svg\" alt=\"Open In Colab\"/></a>"
      ]
    },
    {
      "cell_type": "markdown",
      "source": [
        "# Exercise 2: Text clustering"
      ],
      "metadata": {
        "id": "GPFcvlIbrhHy"
      }
    },
    {
      "cell_type": "markdown",
      "source": [
        "## Libraries and Downloads"
      ],
      "metadata": {
        "id": "aA-Nn2lJr8Dy"
      }
    },
    {
      "cell_type": "code",
      "source": [
        "# Libraries\n",
        "# Import necessary libraries for the code\n",
        "import csv\n",
        "import pandas as pd\n",
        "from bertopic import BERTopic # pip install bertopic\n",
        "import string\n",
        "import nltk\n",
        "from nltk.corpus import stopwords\n",
        "\n",
        "# Download\n",
        "# Download the list of stop words in English if you haven't already.\n",
        "nltk.download('stopwords')\n",
        "\n"
      ],
      "metadata": {
        "id": "eUzo1CK1r5H3",
        "colab": {
          "base_uri": "https://localhost:8080/"
        },
        "outputId": "f1361223-16a7-4fcc-f2a0-c874462b4333"
      },
      "execution_count": 1,
      "outputs": [
        {
          "output_type": "stream",
          "name": "stderr",
          "text": [
            "[nltk_data] Downloading package stopwords to /root/nltk_data...\n",
            "[nltk_data]   Package stopwords is already up-to-date!\n"
          ]
        },
        {
          "output_type": "execute_result",
          "data": {
            "text/plain": [
              "True"
            ]
          },
          "metadata": {},
          "execution_count": 1
        }
      ]
    },
    {
      "cell_type": "markdown",
      "source": [
        "## Future Functions Definitions\n"
      ],
      "metadata": {
        "id": "KzQmLrBesyKS"
      }
    },
    {
      "cell_type": "code",
      "source": [
        "###### Stop Words #######\n",
        "# Function to remove common stop words from a given text.\n",
        "def eliminar_stop_words(texto):\n",
        "    stop_words = set(stopwords.words('english'))# Get a set of common stop words in English\n",
        "    palabras = texto.split()   # Split the input text into words\n",
        "    palabras_filtradas = [palabra for palabra in palabras if palabra.lower() not in stop_words]# Filter out words that are in the stop words set\n",
        "    texto_filtrado = ' '.join(palabras_filtradas)  # Reconstruct the text without stop words\n",
        "    return texto_filtrado\n"
      ],
      "metadata": {
        "id": "lmYJ3Ea4swrL"
      },
      "execution_count": 2,
      "outputs": []
    },
    {
      "cell_type": "markdown",
      "source": [
        "## Load Data"
      ],
      "metadata": {
        "id": "0GP0W2dsr--Q"
      }
    },
    {
      "cell_type": "code",
      "execution_count": 3,
      "metadata": {
        "id": "DGdGIkjyLo5-"
      },
      "outputs": [],
      "source": [
        "# Open the CSV file with 'utf-8'\n",
        "with open('/content/File2.csv', mode='r', encoding='utf-8') as file:\n",
        "    # Configure the CSV reader with delimiter (comma) and quote character (double quotes)\n",
        "    reader = csv.reader(file, delimiter=',', quotechar='\"')\n",
        "    # Create a DataFrame from the CSV data and set column names\n",
        "    df = pd.DataFrame(reader, columns=next(reader))\n",
        "# Convert all text data in the DataFrame to lowercase while preserving non-string values\n",
        "df = df.applymap(lambda x: x.lower() if isinstance(x, str) else x)\n",
        "# Apply the function to remove stop words to the 'OBJECTIVE_NAME' column\n",
        "df['OBJECTIVE_NAME'] = df['OBJECTIVE_NAME'].apply(eliminar_stop_words)"
      ]
    },
    {
      "cell_type": "code",
      "source": [
        "# It's generally not necessary to remove stop words when using BERTopic.\n",
        "# However, in this case, we're opting to remove them due to their potential\n",
        "# to introduce more noise than accuracy. This is especially true when\n",
        "# dealing with highly specific target topics and very short sentences.\n",
        "\n",
        "# Extract the 'OBJECTIVE_NAME' column from the DataFrame.\n",
        "OBJECTIVE_NAME = df['OBJECTIVE_NAME']\n",
        "# Create an instance of the BERTopic model.\n",
        "topic_model = BERTopic()\n",
        "# Fit the BERTopic model to the 'OBJECTIVE_NAME' data.\n",
        "# This will cluster the objectives into topics.\n",
        "topics, probs = topic_model.fit_transform(OBJECTIVE_NAME)\n",
        "# Retrieve information about the topics generated by the model.\n",
        "topic_model.get_topic_info()\n",
        "\n"
      ],
      "metadata": {
        "colab": {
          "base_uri": "https://localhost:8080/",
          "height": 143
        },
        "id": "YHzfNjQjpjtD",
        "outputId": "497b82a7-5797-4372-becd-964716a257f6"
      },
      "execution_count": 4,
      "outputs": [
        {
          "output_type": "execute_result",
          "data": {
            "text/plain": [
              "   Topic  Count                                        Name  \\\n",
              "0      0     85           0_water_drinking_improved_service   \n",
              "1      1     83  1_sanitation_coverage_wastewater_treatment   \n",
              "2      2     13           2_waste_disposal_solid_collection   \n",
              "\n",
              "                                      Representation  \\\n",
              "0  [water, drinking, improved, service, quality, ...   \n",
              "1  [sanitation, coverage, wastewater, treatment, ...   \n",
              "2  [waste, disposal, solid, collection, urban, la...   \n",
              "\n",
              "                                 Representative_Docs  \n",
              "0  [expanded improved drinking water service cove...  \n",
              "1  [expanded improved sanitation service coverage...  \n",
              "2  [increase adequate disposal urban solid waste,...  "
            ],
            "text/html": [
              "\n",
              "  <div id=\"df-89214476-1512-4ddf-996f-963d38cf4fcc\" class=\"colab-df-container\">\n",
              "    <div>\n",
              "<style scoped>\n",
              "    .dataframe tbody tr th:only-of-type {\n",
              "        vertical-align: middle;\n",
              "    }\n",
              "\n",
              "    .dataframe tbody tr th {\n",
              "        vertical-align: top;\n",
              "    }\n",
              "\n",
              "    .dataframe thead th {\n",
              "        text-align: right;\n",
              "    }\n",
              "</style>\n",
              "<table border=\"1\" class=\"dataframe\">\n",
              "  <thead>\n",
              "    <tr style=\"text-align: right;\">\n",
              "      <th></th>\n",
              "      <th>Topic</th>\n",
              "      <th>Count</th>\n",
              "      <th>Name</th>\n",
              "      <th>Representation</th>\n",
              "      <th>Representative_Docs</th>\n",
              "    </tr>\n",
              "  </thead>\n",
              "  <tbody>\n",
              "    <tr>\n",
              "      <th>0</th>\n",
              "      <td>0</td>\n",
              "      <td>85</td>\n",
              "      <td>0_water_drinking_improved_service</td>\n",
              "      <td>[water, drinking, improved, service, quality, ...</td>\n",
              "      <td>[expanded improved drinking water service cove...</td>\n",
              "    </tr>\n",
              "    <tr>\n",
              "      <th>1</th>\n",
              "      <td>1</td>\n",
              "      <td>83</td>\n",
              "      <td>1_sanitation_coverage_wastewater_treatment</td>\n",
              "      <td>[sanitation, coverage, wastewater, treatment, ...</td>\n",
              "      <td>[expanded improved sanitation service coverage...</td>\n",
              "    </tr>\n",
              "    <tr>\n",
              "      <th>2</th>\n",
              "      <td>2</td>\n",
              "      <td>13</td>\n",
              "      <td>2_waste_disposal_solid_collection</td>\n",
              "      <td>[waste, disposal, solid, collection, urban, la...</td>\n",
              "      <td>[increase adequate disposal urban solid waste,...</td>\n",
              "    </tr>\n",
              "  </tbody>\n",
              "</table>\n",
              "</div>\n",
              "    <div class=\"colab-df-buttons\">\n",
              "\n",
              "  <div class=\"colab-df-container\">\n",
              "    <button class=\"colab-df-convert\" onclick=\"convertToInteractive('df-89214476-1512-4ddf-996f-963d38cf4fcc')\"\n",
              "            title=\"Convert this dataframe to an interactive table.\"\n",
              "            style=\"display:none;\">\n",
              "\n",
              "  <svg xmlns=\"http://www.w3.org/2000/svg\" height=\"24px\" viewBox=\"0 -960 960 960\">\n",
              "    <path d=\"M120-120v-720h720v720H120Zm60-500h600v-160H180v160Zm220 220h160v-160H400v160Zm0 220h160v-160H400v160ZM180-400h160v-160H180v160Zm440 0h160v-160H620v160ZM180-180h160v-160H180v160Zm440 0h160v-160H620v160Z\"/>\n",
              "  </svg>\n",
              "    </button>\n",
              "\n",
              "  <style>\n",
              "    .colab-df-container {\n",
              "      display:flex;\n",
              "      gap: 12px;\n",
              "    }\n",
              "\n",
              "    .colab-df-convert {\n",
              "      background-color: #E8F0FE;\n",
              "      border: none;\n",
              "      border-radius: 50%;\n",
              "      cursor: pointer;\n",
              "      display: none;\n",
              "      fill: #1967D2;\n",
              "      height: 32px;\n",
              "      padding: 0 0 0 0;\n",
              "      width: 32px;\n",
              "    }\n",
              "\n",
              "    .colab-df-convert:hover {\n",
              "      background-color: #E2EBFA;\n",
              "      box-shadow: 0px 1px 2px rgba(60, 64, 67, 0.3), 0px 1px 3px 1px rgba(60, 64, 67, 0.15);\n",
              "      fill: #174EA6;\n",
              "    }\n",
              "\n",
              "    .colab-df-buttons div {\n",
              "      margin-bottom: 4px;\n",
              "    }\n",
              "\n",
              "    [theme=dark] .colab-df-convert {\n",
              "      background-color: #3B4455;\n",
              "      fill: #D2E3FC;\n",
              "    }\n",
              "\n",
              "    [theme=dark] .colab-df-convert:hover {\n",
              "      background-color: #434B5C;\n",
              "      box-shadow: 0px 1px 3px 1px rgba(0, 0, 0, 0.15);\n",
              "      filter: drop-shadow(0px 1px 2px rgba(0, 0, 0, 0.3));\n",
              "      fill: #FFFFFF;\n",
              "    }\n",
              "  </style>\n",
              "\n",
              "    <script>\n",
              "      const buttonEl =\n",
              "        document.querySelector('#df-89214476-1512-4ddf-996f-963d38cf4fcc button.colab-df-convert');\n",
              "      buttonEl.style.display =\n",
              "        google.colab.kernel.accessAllowed ? 'block' : 'none';\n",
              "\n",
              "      async function convertToInteractive(key) {\n",
              "        const element = document.querySelector('#df-89214476-1512-4ddf-996f-963d38cf4fcc');\n",
              "        const dataTable =\n",
              "          await google.colab.kernel.invokeFunction('convertToInteractive',\n",
              "                                                    [key], {});\n",
              "        if (!dataTable) return;\n",
              "\n",
              "        const docLinkHtml = 'Like what you see? Visit the ' +\n",
              "          '<a target=\"_blank\" href=https://colab.research.google.com/notebooks/data_table.ipynb>data table notebook</a>'\n",
              "          + ' to learn more about interactive tables.';\n",
              "        element.innerHTML = '';\n",
              "        dataTable['output_type'] = 'display_data';\n",
              "        await google.colab.output.renderOutput(dataTable, element);\n",
              "        const docLink = document.createElement('div');\n",
              "        docLink.innerHTML = docLinkHtml;\n",
              "        element.appendChild(docLink);\n",
              "      }\n",
              "    </script>\n",
              "  </div>\n",
              "\n",
              "\n",
              "<div id=\"df-e8d1b54b-0aee-48b6-b505-d9bebeb45449\">\n",
              "  <button class=\"colab-df-quickchart\" onclick=\"quickchart('df-e8d1b54b-0aee-48b6-b505-d9bebeb45449')\"\n",
              "            title=\"Suggest charts.\"\n",
              "            style=\"display:none;\">\n",
              "\n",
              "<svg xmlns=\"http://www.w3.org/2000/svg\" height=\"24px\"viewBox=\"0 0 24 24\"\n",
              "     width=\"24px\">\n",
              "    <g>\n",
              "        <path d=\"M19 3H5c-1.1 0-2 .9-2 2v14c0 1.1.9 2 2 2h14c1.1 0 2-.9 2-2V5c0-1.1-.9-2-2-2zM9 17H7v-7h2v7zm4 0h-2V7h2v10zm4 0h-2v-4h2v4z\"/>\n",
              "    </g>\n",
              "</svg>\n",
              "  </button>\n",
              "\n",
              "<style>\n",
              "  .colab-df-quickchart {\n",
              "      --bg-color: #E8F0FE;\n",
              "      --fill-color: #1967D2;\n",
              "      --hover-bg-color: #E2EBFA;\n",
              "      --hover-fill-color: #174EA6;\n",
              "      --disabled-fill-color: #AAA;\n",
              "      --disabled-bg-color: #DDD;\n",
              "  }\n",
              "\n",
              "  [theme=dark] .colab-df-quickchart {\n",
              "      --bg-color: #3B4455;\n",
              "      --fill-color: #D2E3FC;\n",
              "      --hover-bg-color: #434B5C;\n",
              "      --hover-fill-color: #FFFFFF;\n",
              "      --disabled-bg-color: #3B4455;\n",
              "      --disabled-fill-color: #666;\n",
              "  }\n",
              "\n",
              "  .colab-df-quickchart {\n",
              "    background-color: var(--bg-color);\n",
              "    border: none;\n",
              "    border-radius: 50%;\n",
              "    cursor: pointer;\n",
              "    display: none;\n",
              "    fill: var(--fill-color);\n",
              "    height: 32px;\n",
              "    padding: 0;\n",
              "    width: 32px;\n",
              "  }\n",
              "\n",
              "  .colab-df-quickchart:hover {\n",
              "    background-color: var(--hover-bg-color);\n",
              "    box-shadow: 0 1px 2px rgba(60, 64, 67, 0.3), 0 1px 3px 1px rgba(60, 64, 67, 0.15);\n",
              "    fill: var(--button-hover-fill-color);\n",
              "  }\n",
              "\n",
              "  .colab-df-quickchart-complete:disabled,\n",
              "  .colab-df-quickchart-complete:disabled:hover {\n",
              "    background-color: var(--disabled-bg-color);\n",
              "    fill: var(--disabled-fill-color);\n",
              "    box-shadow: none;\n",
              "  }\n",
              "\n",
              "  .colab-df-spinner {\n",
              "    border: 2px solid var(--fill-color);\n",
              "    border-color: transparent;\n",
              "    border-bottom-color: var(--fill-color);\n",
              "    animation:\n",
              "      spin 1s steps(1) infinite;\n",
              "  }\n",
              "\n",
              "  @keyframes spin {\n",
              "    0% {\n",
              "      border-color: transparent;\n",
              "      border-bottom-color: var(--fill-color);\n",
              "      border-left-color: var(--fill-color);\n",
              "    }\n",
              "    20% {\n",
              "      border-color: transparent;\n",
              "      border-left-color: var(--fill-color);\n",
              "      border-top-color: var(--fill-color);\n",
              "    }\n",
              "    30% {\n",
              "      border-color: transparent;\n",
              "      border-left-color: var(--fill-color);\n",
              "      border-top-color: var(--fill-color);\n",
              "      border-right-color: var(--fill-color);\n",
              "    }\n",
              "    40% {\n",
              "      border-color: transparent;\n",
              "      border-right-color: var(--fill-color);\n",
              "      border-top-color: var(--fill-color);\n",
              "    }\n",
              "    60% {\n",
              "      border-color: transparent;\n",
              "      border-right-color: var(--fill-color);\n",
              "    }\n",
              "    80% {\n",
              "      border-color: transparent;\n",
              "      border-right-color: var(--fill-color);\n",
              "      border-bottom-color: var(--fill-color);\n",
              "    }\n",
              "    90% {\n",
              "      border-color: transparent;\n",
              "      border-bottom-color: var(--fill-color);\n",
              "    }\n",
              "  }\n",
              "</style>\n",
              "\n",
              "  <script>\n",
              "    async function quickchart(key) {\n",
              "      const quickchartButtonEl =\n",
              "        document.querySelector('#' + key + ' button');\n",
              "      quickchartButtonEl.disabled = true;  // To prevent multiple clicks.\n",
              "      quickchartButtonEl.classList.add('colab-df-spinner');\n",
              "      try {\n",
              "        const charts = await google.colab.kernel.invokeFunction(\n",
              "            'suggestCharts', [key], {});\n",
              "      } catch (error) {\n",
              "        console.error('Error during call to suggestCharts:', error);\n",
              "      }\n",
              "      quickchartButtonEl.classList.remove('colab-df-spinner');\n",
              "      quickchartButtonEl.classList.add('colab-df-quickchart-complete');\n",
              "    }\n",
              "    (() => {\n",
              "      let quickchartButtonEl =\n",
              "        document.querySelector('#df-e8d1b54b-0aee-48b6-b505-d9bebeb45449 button');\n",
              "      quickchartButtonEl.style.display =\n",
              "        google.colab.kernel.accessAllowed ? 'block' : 'none';\n",
              "    })();\n",
              "  </script>\n",
              "</div>\n",
              "    </div>\n",
              "  </div>\n"
            ]
          },
          "metadata": {},
          "execution_count": 4
        }
      ]
    },
    {
      "cell_type": "code",
      "source": [
        "# Generate Labels\n",
        "# Generate topic labels for each cluster using the BERTopic model.\n",
        "# The 'nr_words' parameter specifies the number of words to use in the label,\n",
        "# 'topic_prefix' adds a prefix to each label, and 'separator' sets the separator\n",
        "# between words in the label.\n",
        "topic_labels = topic_model.generate_topic_labels(nr_words=3, topic_prefix=False, separator=\" - \")\n",
        "\n",
        "# Set the generated topic labels for the BERTopic model.\n",
        "topic_model.set_topic_labels(topic_labels)\n",
        "\n",
        "# Create Our Own Labels\n",
        "# Customize topic labels by assigning meaningful names to each topic cluster.\n",
        "# In this case, the code assigns human-readable labels to each of the identified topics.\n",
        "topic_model.set_topic_labels({0: \"Drinking Water and Improved Service\",\n",
        "                              1: \"Sanitation, Coverage, and Wastewater Treatment\",\n",
        "                              2: \"Waste Solid Disposal and Collection\"})"
      ],
      "metadata": {
        "id": "KHNwyXOtpxE1"
      },
      "execution_count": 5,
      "outputs": []
    },
    {
      "cell_type": "code",
      "source": [
        "# Visualize the Heatmap\n",
        "# Generate a heatmap that visualizes the relationships between topics based on\n",
        "# their similarity and word usage.\n",
        "topic_model.visualize_heatmap()"
      ],
      "metadata": {
        "colab": {
          "base_uri": "https://localhost:8080/",
          "height": 817
        },
        "id": "YiGyxvyYxdTH",
        "outputId": "1f121eec-1cd4-4787-be8c-4b57cb5bd1c5"
      },
      "execution_count": 6,
      "outputs": [
        {
          "output_type": "display_data",
          "data": {
            "text/html": [
              "<html>\n",
              "<head><meta charset=\"utf-8\" /></head>\n",
              "<body>\n",
              "    <div>            <script src=\"https://cdnjs.cloudflare.com/ajax/libs/mathjax/2.7.5/MathJax.js?config=TeX-AMS-MML_SVG\"></script><script type=\"text/javascript\">if (window.MathJax && window.MathJax.Hub && window.MathJax.Hub.Config) {window.MathJax.Hub.Config({SVG: {font: \"STIX-Web\"}});}</script>                <script type=\"text/javascript\">window.PlotlyConfig = {MathJaxConfig: 'local'};</script>\n",
              "        <script charset=\"utf-8\" src=\"https://cdn.plot.ly/plotly-2.24.1.min.js\"></script>                <div id=\"b6f2d176-feee-4400-9765-509786f3b517\" class=\"plotly-graph-div\" style=\"height:800px; width:800px;\"></div>            <script type=\"text/javascript\">                                    window.PLOTLYENV=window.PLOTLYENV || {};                                    if (document.getElementById(\"b6f2d176-feee-4400-9765-509786f3b517\")) {                    Plotly.newPlot(                        \"b6f2d176-feee-4400-9765-509786f3b517\",                        [{\"coloraxis\":\"coloraxis\",\"name\":\"0\",\"x\":[\"0_water_drinking_improved\",\"1_sanitation_coverage_waste...\",\"2_waste_disposal_solid\"],\"y\":[\"0_water_drinking_improved\",\"1_sanitation_coverage_waste...\",\"2_waste_disposal_solid\"],\"z\":[[1.0,0.7307482957839966,0.35891932249069214],[0.7307482957839966,0.9999998211860657,0.5897635221481323],[0.35891932249069214,0.5897635221481323,0.9999997615814209]],\"type\":\"heatmap\",\"xaxis\":\"x\",\"yaxis\":\"y\",\"hovertemplate\":\"x: %{x}\\u003cbr\\u003ey: %{y}\\u003cbr\\u003eSimilarity Score: %{z}\\u003cextra\\u003e\\u003c\\u002fextra\\u003e\"}],                        {\"template\":{\"data\":{\"histogram2dcontour\":[{\"type\":\"histogram2dcontour\",\"colorbar\":{\"outlinewidth\":0,\"ticks\":\"\"},\"colorscale\":[[0.0,\"#0d0887\"],[0.1111111111111111,\"#46039f\"],[0.2222222222222222,\"#7201a8\"],[0.3333333333333333,\"#9c179e\"],[0.4444444444444444,\"#bd3786\"],[0.5555555555555556,\"#d8576b\"],[0.6666666666666666,\"#ed7953\"],[0.7777777777777778,\"#fb9f3a\"],[0.8888888888888888,\"#fdca26\"],[1.0,\"#f0f921\"]]}],\"choropleth\":[{\"type\":\"choropleth\",\"colorbar\":{\"outlinewidth\":0,\"ticks\":\"\"}}],\"histogram2d\":[{\"type\":\"histogram2d\",\"colorbar\":{\"outlinewidth\":0,\"ticks\":\"\"},\"colorscale\":[[0.0,\"#0d0887\"],[0.1111111111111111,\"#46039f\"],[0.2222222222222222,\"#7201a8\"],[0.3333333333333333,\"#9c179e\"],[0.4444444444444444,\"#bd3786\"],[0.5555555555555556,\"#d8576b\"],[0.6666666666666666,\"#ed7953\"],[0.7777777777777778,\"#fb9f3a\"],[0.8888888888888888,\"#fdca26\"],[1.0,\"#f0f921\"]]}],\"heatmap\":[{\"type\":\"heatmap\",\"colorbar\":{\"outlinewidth\":0,\"ticks\":\"\"},\"colorscale\":[[0.0,\"#0d0887\"],[0.1111111111111111,\"#46039f\"],[0.2222222222222222,\"#7201a8\"],[0.3333333333333333,\"#9c179e\"],[0.4444444444444444,\"#bd3786\"],[0.5555555555555556,\"#d8576b\"],[0.6666666666666666,\"#ed7953\"],[0.7777777777777778,\"#fb9f3a\"],[0.8888888888888888,\"#fdca26\"],[1.0,\"#f0f921\"]]}],\"heatmapgl\":[{\"type\":\"heatmapgl\",\"colorbar\":{\"outlinewidth\":0,\"ticks\":\"\"},\"colorscale\":[[0.0,\"#0d0887\"],[0.1111111111111111,\"#46039f\"],[0.2222222222222222,\"#7201a8\"],[0.3333333333333333,\"#9c179e\"],[0.4444444444444444,\"#bd3786\"],[0.5555555555555556,\"#d8576b\"],[0.6666666666666666,\"#ed7953\"],[0.7777777777777778,\"#fb9f3a\"],[0.8888888888888888,\"#fdca26\"],[1.0,\"#f0f921\"]]}],\"contourcarpet\":[{\"type\":\"contourcarpet\",\"colorbar\":{\"outlinewidth\":0,\"ticks\":\"\"}}],\"contour\":[{\"type\":\"contour\",\"colorbar\":{\"outlinewidth\":0,\"ticks\":\"\"},\"colorscale\":[[0.0,\"#0d0887\"],[0.1111111111111111,\"#46039f\"],[0.2222222222222222,\"#7201a8\"],[0.3333333333333333,\"#9c179e\"],[0.4444444444444444,\"#bd3786\"],[0.5555555555555556,\"#d8576b\"],[0.6666666666666666,\"#ed7953\"],[0.7777777777777778,\"#fb9f3a\"],[0.8888888888888888,\"#fdca26\"],[1.0,\"#f0f921\"]]}],\"surface\":[{\"type\":\"surface\",\"colorbar\":{\"outlinewidth\":0,\"ticks\":\"\"},\"colorscale\":[[0.0,\"#0d0887\"],[0.1111111111111111,\"#46039f\"],[0.2222222222222222,\"#7201a8\"],[0.3333333333333333,\"#9c179e\"],[0.4444444444444444,\"#bd3786\"],[0.5555555555555556,\"#d8576b\"],[0.6666666666666666,\"#ed7953\"],[0.7777777777777778,\"#fb9f3a\"],[0.8888888888888888,\"#fdca26\"],[1.0,\"#f0f921\"]]}],\"mesh3d\":[{\"type\":\"mesh3d\",\"colorbar\":{\"outlinewidth\":0,\"ticks\":\"\"}}],\"scatter\":[{\"fillpattern\":{\"fillmode\":\"overlay\",\"size\":10,\"solidity\":0.2},\"type\":\"scatter\"}],\"parcoords\":[{\"type\":\"parcoords\",\"line\":{\"colorbar\":{\"outlinewidth\":0,\"ticks\":\"\"}}}],\"scatterpolargl\":[{\"type\":\"scatterpolargl\",\"marker\":{\"colorbar\":{\"outlinewidth\":0,\"ticks\":\"\"}}}],\"bar\":[{\"error_x\":{\"color\":\"#2a3f5f\"},\"error_y\":{\"color\":\"#2a3f5f\"},\"marker\":{\"line\":{\"color\":\"#E5ECF6\",\"width\":0.5},\"pattern\":{\"fillmode\":\"overlay\",\"size\":10,\"solidity\":0.2}},\"type\":\"bar\"}],\"scattergeo\":[{\"type\":\"scattergeo\",\"marker\":{\"colorbar\":{\"outlinewidth\":0,\"ticks\":\"\"}}}],\"scatterpolar\":[{\"type\":\"scatterpolar\",\"marker\":{\"colorbar\":{\"outlinewidth\":0,\"ticks\":\"\"}}}],\"histogram\":[{\"marker\":{\"pattern\":{\"fillmode\":\"overlay\",\"size\":10,\"solidity\":0.2}},\"type\":\"histogram\"}],\"scattergl\":[{\"type\":\"scattergl\",\"marker\":{\"colorbar\":{\"outlinewidth\":0,\"ticks\":\"\"}}}],\"scatter3d\":[{\"type\":\"scatter3d\",\"line\":{\"colorbar\":{\"outlinewidth\":0,\"ticks\":\"\"}},\"marker\":{\"colorbar\":{\"outlinewidth\":0,\"ticks\":\"\"}}}],\"scattermapbox\":[{\"type\":\"scattermapbox\",\"marker\":{\"colorbar\":{\"outlinewidth\":0,\"ticks\":\"\"}}}],\"scatterternary\":[{\"type\":\"scatterternary\",\"marker\":{\"colorbar\":{\"outlinewidth\":0,\"ticks\":\"\"}}}],\"scattercarpet\":[{\"type\":\"scattercarpet\",\"marker\":{\"colorbar\":{\"outlinewidth\":0,\"ticks\":\"\"}}}],\"carpet\":[{\"aaxis\":{\"endlinecolor\":\"#2a3f5f\",\"gridcolor\":\"white\",\"linecolor\":\"white\",\"minorgridcolor\":\"white\",\"startlinecolor\":\"#2a3f5f\"},\"baxis\":{\"endlinecolor\":\"#2a3f5f\",\"gridcolor\":\"white\",\"linecolor\":\"white\",\"minorgridcolor\":\"white\",\"startlinecolor\":\"#2a3f5f\"},\"type\":\"carpet\"}],\"table\":[{\"cells\":{\"fill\":{\"color\":\"#EBF0F8\"},\"line\":{\"color\":\"white\"}},\"header\":{\"fill\":{\"color\":\"#C8D4E3\"},\"line\":{\"color\":\"white\"}},\"type\":\"table\"}],\"barpolar\":[{\"marker\":{\"line\":{\"color\":\"#E5ECF6\",\"width\":0.5},\"pattern\":{\"fillmode\":\"overlay\",\"size\":10,\"solidity\":0.2}},\"type\":\"barpolar\"}],\"pie\":[{\"automargin\":true,\"type\":\"pie\"}]},\"layout\":{\"autotypenumbers\":\"strict\",\"colorway\":[\"#636efa\",\"#EF553B\",\"#00cc96\",\"#ab63fa\",\"#FFA15A\",\"#19d3f3\",\"#FF6692\",\"#B6E880\",\"#FF97FF\",\"#FECB52\"],\"font\":{\"color\":\"#2a3f5f\"},\"hovermode\":\"closest\",\"hoverlabel\":{\"align\":\"left\"},\"paper_bgcolor\":\"white\",\"plot_bgcolor\":\"#E5ECF6\",\"polar\":{\"bgcolor\":\"#E5ECF6\",\"angularaxis\":{\"gridcolor\":\"white\",\"linecolor\":\"white\",\"ticks\":\"\"},\"radialaxis\":{\"gridcolor\":\"white\",\"linecolor\":\"white\",\"ticks\":\"\"}},\"ternary\":{\"bgcolor\":\"#E5ECF6\",\"aaxis\":{\"gridcolor\":\"white\",\"linecolor\":\"white\",\"ticks\":\"\"},\"baxis\":{\"gridcolor\":\"white\",\"linecolor\":\"white\",\"ticks\":\"\"},\"caxis\":{\"gridcolor\":\"white\",\"linecolor\":\"white\",\"ticks\":\"\"}},\"coloraxis\":{\"colorbar\":{\"outlinewidth\":0,\"ticks\":\"\"}},\"colorscale\":{\"sequential\":[[0.0,\"#0d0887\"],[0.1111111111111111,\"#46039f\"],[0.2222222222222222,\"#7201a8\"],[0.3333333333333333,\"#9c179e\"],[0.4444444444444444,\"#bd3786\"],[0.5555555555555556,\"#d8576b\"],[0.6666666666666666,\"#ed7953\"],[0.7777777777777778,\"#fb9f3a\"],[0.8888888888888888,\"#fdca26\"],[1.0,\"#f0f921\"]],\"sequentialminus\":[[0.0,\"#0d0887\"],[0.1111111111111111,\"#46039f\"],[0.2222222222222222,\"#7201a8\"],[0.3333333333333333,\"#9c179e\"],[0.4444444444444444,\"#bd3786\"],[0.5555555555555556,\"#d8576b\"],[0.6666666666666666,\"#ed7953\"],[0.7777777777777778,\"#fb9f3a\"],[0.8888888888888888,\"#fdca26\"],[1.0,\"#f0f921\"]],\"diverging\":[[0,\"#8e0152\"],[0.1,\"#c51b7d\"],[0.2,\"#de77ae\"],[0.3,\"#f1b6da\"],[0.4,\"#fde0ef\"],[0.5,\"#f7f7f7\"],[0.6,\"#e6f5d0\"],[0.7,\"#b8e186\"],[0.8,\"#7fbc41\"],[0.9,\"#4d9221\"],[1,\"#276419\"]]},\"xaxis\":{\"gridcolor\":\"white\",\"linecolor\":\"white\",\"ticks\":\"\",\"title\":{\"standoff\":15},\"zerolinecolor\":\"white\",\"automargin\":true,\"zerolinewidth\":2},\"yaxis\":{\"gridcolor\":\"white\",\"linecolor\":\"white\",\"ticks\":\"\",\"title\":{\"standoff\":15},\"zerolinecolor\":\"white\",\"automargin\":true,\"zerolinewidth\":2},\"scene\":{\"xaxis\":{\"backgroundcolor\":\"#E5ECF6\",\"gridcolor\":\"white\",\"linecolor\":\"white\",\"showbackground\":true,\"ticks\":\"\",\"zerolinecolor\":\"white\",\"gridwidth\":2},\"yaxis\":{\"backgroundcolor\":\"#E5ECF6\",\"gridcolor\":\"white\",\"linecolor\":\"white\",\"showbackground\":true,\"ticks\":\"\",\"zerolinecolor\":\"white\",\"gridwidth\":2},\"zaxis\":{\"backgroundcolor\":\"#E5ECF6\",\"gridcolor\":\"white\",\"linecolor\":\"white\",\"showbackground\":true,\"ticks\":\"\",\"zerolinecolor\":\"white\",\"gridwidth\":2}},\"shapedefaults\":{\"line\":{\"color\":\"#2a3f5f\"}},\"annotationdefaults\":{\"arrowcolor\":\"#2a3f5f\",\"arrowhead\":0,\"arrowwidth\":1},\"geo\":{\"bgcolor\":\"white\",\"landcolor\":\"#E5ECF6\",\"subunitcolor\":\"white\",\"showland\":true,\"showlakes\":true,\"lakecolor\":\"white\"},\"title\":{\"x\":0.05},\"mapbox\":{\"style\":\"light\"}}},\"xaxis\":{\"anchor\":\"y\",\"domain\":[0.0,1.0],\"scaleanchor\":\"y\",\"constrain\":\"domain\"},\"yaxis\":{\"anchor\":\"x\",\"domain\":[0.0,1.0],\"autorange\":\"reversed\",\"constrain\":\"domain\"},\"coloraxis\":{\"colorbar\":{\"title\":{\"text\":\"Similarity Score\"}},\"colorscale\":[[0.0,\"rgb(247,252,240)\"],[0.125,\"rgb(224,243,219)\"],[0.25,\"rgb(204,235,197)\"],[0.375,\"rgb(168,221,181)\"],[0.5,\"rgb(123,204,196)\"],[0.625,\"rgb(78,179,211)\"],[0.75,\"rgb(43,140,190)\"],[0.875,\"rgb(8,104,172)\"],[1.0,\"rgb(8,64,129)\"]]},\"margin\":{\"t\":60},\"title\":{\"font\":{\"size\":22,\"color\":\"Black\"},\"text\":\"\\u003cb\\u003eSimilarity Matrix\\u003c\\u002fb\\u003e\",\"y\":0.95,\"x\":0.55,\"xanchor\":\"center\",\"yanchor\":\"top\"},\"hoverlabel\":{\"font\":{\"size\":16,\"family\":\"Rockwell\"},\"bgcolor\":\"white\"},\"width\":800,\"height\":800,\"showlegend\":true,\"legend\":{\"title\":{\"text\":\"Trend\"}}},                        {\"responsive\": true}                    ).then(function(){\n",
              "                            \n",
              "var gd = document.getElementById('b6f2d176-feee-4400-9765-509786f3b517');\n",
              "var x = new MutationObserver(function (mutations, observer) {{\n",
              "        var display = window.getComputedStyle(gd).display;\n",
              "        if (!display || display === 'none') {{\n",
              "            console.log([gd, 'removed!']);\n",
              "            Plotly.purge(gd);\n",
              "            observer.disconnect();\n",
              "        }}\n",
              "}});\n",
              "\n",
              "// Listen for the removal of the full notebook cells\n",
              "var notebookContainer = gd.closest('#notebook-container');\n",
              "if (notebookContainer) {{\n",
              "    x.observe(notebookContainer, {childList: true});\n",
              "}}\n",
              "\n",
              "// Listen for the clearing of the current output cell\n",
              "var outputEl = gd.closest('.output');\n",
              "if (outputEl) {{\n",
              "    x.observe(outputEl, {childList: true});\n",
              "}}\n",
              "\n",
              "                        })                };                            </script>        </div>\n",
              "</body>\n",
              "</html>"
            ]
          },
          "metadata": {}
        }
      ]
    },
    {
      "cell_type": "code",
      "source": [
        "# Visualize Documents with Custom Labels\n",
        "# Visualize documents assigned to the specified topics, using the custom labels\n",
        "# that were assigned in the previous step.\n",
        "topic_model.visualize_documents(OBJECTIVE_NAME, topics=list(range(3)), custom_labels=True)\n"
      ],
      "metadata": {
        "colab": {
          "base_uri": "https://localhost:8080/",
          "height": 787
        },
        "id": "RiCyTabBwEZW",
        "outputId": "98e6c430-c0d0-4f5a-ade0-153c3165d466"
      },
      "execution_count": 7,
      "outputs": [
        {
          "output_type": "display_data",
          "data": {
            "text/html": [
              "<html>\n",
              "<head><meta charset=\"utf-8\" /></head>\n",
              "<body>\n",
              "    <div>            <script src=\"https://cdnjs.cloudflare.com/ajax/libs/mathjax/2.7.5/MathJax.js?config=TeX-AMS-MML_SVG\"></script><script type=\"text/javascript\">if (window.MathJax && window.MathJax.Hub && window.MathJax.Hub.Config) {window.MathJax.Hub.Config({SVG: {font: \"STIX-Web\"}});}</script>                <script type=\"text/javascript\">window.PlotlyConfig = {MathJaxConfig: 'local'};</script>\n",
              "        <script charset=\"utf-8\" src=\"https://cdn.plot.ly/plotly-2.24.1.min.js\"></script>                <div id=\"574f5a55-876b-4e6a-b6d9-2719da9568b3\" class=\"plotly-graph-div\" style=\"height:750px; width:1200px;\"></div>            <script type=\"text/javascript\">                                    window.PLOTLYENV=window.PLOTLYENV || {};                                    if (document.getElementById(\"574f5a55-876b-4e6a-b6d9-2719da9568b3\")) {                    Plotly.newPlot(                        \"574f5a55-876b-4e6a-b6d9-2719da9568b3\",                        [{\"hoverinfo\":\"text\",\"hovertext\":[null],\"marker\":{\"color\":\"#CFD8DC\",\"opacity\":0.5,\"size\":5},\"mode\":\"markers+text\",\"name\":\"other\",\"showlegend\":false,\"x\":[null],\"y\":[null],\"type\":\"scattergl\"},{\"hoverinfo\":\"text\",\"hovertext\":[\"improved irrigation systems agricultural production jacha jahuira khullu cachi river basins\",\"reduce risk flooding streams selected interventions\",\"expanded drinking water service coverage\",\"agricultural area irrigation increases\",\"expanded improved drinking water service coverage\",\"optimization drinking water production distribution system amp\",\"improved drinking water service city el alto\",\"expanded coverage drinking water services\",\"road accessibility drainage neighborhoods reconquista river basin improved\",\"improve guarantee access drinking water services esmeraldas catamayo\",\"improve protection occupational units homes possible flooding\",\"energy consumption beneficiary users connected without isolated solutions zni increased\",\"water quality pando stream improved\",\"extend coverage rural drinking water systems improve existing drinking water systems\",\"improved water quality rivers streams\",\"drinking water systems operating according design specifications\",\"drainage works operating according technical design specifications\",\"drinking water service four rural communities provided\",\"reduction average time concession use water resources hydrographic basins ers\",\"flow water discharged medellin river site moravia ptar de bello intercepted\",\"coverage drinking water systems extended and\\u002for improved\",\"improved water quality lake guaiba\",\"drinking water system city san salvador de jujuy improved\",\"rainwater road system city coast area improved\",\"water quality smaller lake titicaca improved\",\"provided drinking water service thirteen rural communities contributes basic indicator ppcr\",\"expanded drinking water coverage\",\"rehabilitation potable water supply kingston metropolitan area kma\",\"water quality kako bridge point walks ebb rio negro decemberjaneiro improved\",\"increased access safe water rural population centers\",\"increased drinking water coverage\",\"support implementation reform towns affected program setting operators functional drinking water services\",\"increased coverage drinking water services rural areas\",\"improved water quality medellin river moravia site downstream bello ptar sewage treatment plant\",\"number households drinking water coverage increases\",\"improved drinking water service\",\"improved water service quality\",\"iii improve conditions water supply services\",\"water supply network greater paramaribo improved\",\"reduce risk flooding quarenta igarape basin\",\"increase extension areas montaneous lands ers irrigated agriculture\",\"improved drinking water services intervention cities program\",\"linden water supply system improved\",\"increased access drinking water supply services\",\"drinking water coverage sustainable systems increased\",\"increased access drinking water service\",\"households home access drinking water segment cities inhabitants\",\"access drinking water increased and\\u002for improved smaller intermediate cities inhabitants\",\"existing drinking water service improved\",\"reduced flood risk rio mathias itaum acu sub-basins\",\"potable water supply municipality maues expanded\",\"reduction evasion icms states maize production due scarcity irrigated lands planting\",\"improve home access drinking water santiago\",\"improved household access conditions water suitable human consumption\",\"service capacity pluvial drainage infrastructure aidp recovered\",\"drinking water service city bilwi improved\",\"water quality main channel point s\\u00e3o raimundo stream confluence ebb rio negro decemberjanuary improved\",\"water supply production capacity wanica upgraded\",\"drinking water service city bilwi expanded\",\"households access drinking water new systems rural communities fewer inhabitants\",\"increase amount water consumed households\",\"increase number households continuous access drinking water service esmeraldas catamayo\",\"reduced risk flooding\",\"improved water supply service program areas de kinderencornelia ida goed banana landsheet anchorno diamondherstelling georgetown\",\"water supply systems parish towns areas\",\"improved water quality katari river\",\"floods days heavy rains neighborhood manga reduced\",\"increase improve access drinking water services priority rural areas\",\"protect population flooding intervened areas\",\"reduction water risk due structural measures drainage works flood control built pba\",\"increase improve access drinking water services peri-urban area \\u200b\\u200bthe amsj\",\"improve access drinking water sustainable way six intermediate towns saint marc port de paix les cayes cap haitien jacmel ouanaminthe\",\"new consumers receive drinking water services new rehabilitated systems\",\"quality water service improved\",\"coverage two drinking water services ipojuca river basin increased\",\"supply water fit human consumption\",\"households home access drinking water expanded systems\",\"increase number households continuous drinking water service\",\"efficient sustainable drinking water service city bilwi communities\",\"ii improvement water quality tiete river\",\"quality drinking water services improved\",\"households improved access drinking water populations 1,000 inhabitants\",\"water quality montevideo bay\",\"access drinking water increased and\\u002for improved communities smaller inhabitants\",\"water system communities municipality battles operating sustainably\",null],\"marker\":{\"opacity\":0.5,\"size\":5},\"mode\":\"markers+text\",\"name\":\"Drinking Water and Improved Service\",\"text\":[\"\",\"\",\"\",\"\",\"\",\"\",\"\",\"\",\"\",\"\",\"\",\"\",\"\",\"\",\"\",\"\",\"\",\"\",\"\",\"\",\"\",\"\",\"\",\"\",\"\",\"\",\"\",\"\",\"\",\"\",\"\",\"\",\"\",\"\",\"\",\"\",\"\",\"\",\"\",\"\",\"\",\"\",\"\",\"\",\"\",\"\",\"\",\"\",\"\",\"\",\"\",\"\",\"\",\"\",\"\",\"\",\"\",\"\",\"\",\"\",\"\",\"\",\"\",\"\",\"\",\"\",\"\",\"\",\"\",\"\",\"\",\"\",\"\",\"\",\"\",\"\",\"\",\"\",\"\",\"\",\"\",\"\",\"\",\"\",\"\",\"Drinking Water and Improved Service\"],\"textfont\":{\"size\":12},\"x\":[5.662008762359619,6.193513870239258,6.106512546539307,5.5750274658203125,6.241286277770996,6.427577972412109,6.737127304077148,5.971995830535889,5.305922031402588,5.565499782562256,6.287895679473877,4.762645244598389,7.670555591583252,5.856077671051025,7.727981090545654,6.359633445739746,5.831788063049316,5.554287433624268,5.640257835388184,7.875380516052246,6.174080848693848,7.8433732986450195,6.720090389251709,5.13999605178833,7.891799449920654,5.5515875816345215,5.991846561431885,5.694793701171875,7.712745666503906,5.166182518005371,5.909006595611572,6.215200424194336,5.58101224899292,7.874266624450684,5.328080177307129,6.712666988372803,7.413464069366455,6.7435383796691895,6.495324611663818,6.1060614585876465,5.567593097686768,6.470329761505127,6.520013332366943,6.008338928222656,6.060366630554199,6.014540672302246,4.626300811767578,4.66425085067749,6.817825794219971,6.138724327087402,5.630480766296387,5.566053867340088,5.027523517608643,4.709618091583252,5.674851417541504,6.717016696929932,7.682502269744873,6.369934558868408,6.6524128913879395,4.671382904052734,4.885240077972412,5.17361307144165,6.171343803405762,5.789721965789795,5.544254302978516,7.708106517791748,6.2851433753967285,5.718648433685303,6.273176670074463,6.041144847869873,5.97946834564209,5.893579959869385,6.626312732696533,7.540736198425293,6.215435028076172,4.7428765296936035,4.780755519866943,5.074412822723389,6.603218078613281,7.834874629974365,7.368937015533447,4.654828071594238,7.4824628829956055,4.615885257720947,5.471695899963379,6.11392879486084],\"y\":[1.6320985555648804,2.890829563140869,-0.37278106808662415,1.659394383430481,-0.15464642643928528,0.9285445213317871,0.5433611273765564,-0.45269811153411865,2.660639524459839,-0.04370061680674553,2.985816240310669,-0.49611222743988037,1.3748061656951904,-0.18224367499351501,1.3737809658050537,0.9608758091926575,3.1093385219573975,0.3605079650878906,2.711599826812744,1.7316844463348389,-0.29036566615104675,1.194101095199585,0.42215290665626526,2.790442705154419,1.1179450750350952,0.23507146537303925,-0.4705400764942169,0.7573052048683167,1.2981691360473633,0.40966540575027466,-0.5124616026878357,0.5227729082107544,0.03720536082983017,1.7129265069961548,-0.5176820158958435,0.6222183704376221,1.052019715309143,1.1670116186141968,1.2801759243011475,2.774444818496704,1.700837254524231,0.43699777126312256,0.986815333366394,0.42160293459892273,-0.3990679979324341,0.2639486789703369,0.12739229202270508,0.38086816668510437,0.6724523305892944,2.80525279045105,0.8477529287338257,1.7620024681091309,-0.005022483877837658,-0.1659281998872757,2.761091947555542,0.1607169806957245,1.365343451499939,1.385583519935608,0.07103772461414337,0.23372967541217804,-0.39519357681274414,-0.41241946816444397,2.8743250370025635,1.0213782787322998,0.7763482332229614,1.4036459922790527,2.9739487171173096,0.25688856840133667,2.957906484603882,3.0115511417388916,0.24452655017375946,0.7210704684257507,0.6763688325881958,1.1410857439041138,-0.3134485185146332,-0.4728294909000397,-0.03854842483997345,-0.4579205811023712,0.16588085889816284,1.5101078748703003,0.9698807001113892,0.09490916132926941,1.0973082780838013,0.35309064388275146,0.6959289312362671,0.8881513476371765],\"type\":\"scattergl\"},{\"hoverinfo\":\"text\",\"hovertext\":[\"increase households new connection sanitation networks\",\"wastewater treatment basic sanitation company sao paulo saberp expanded rsmp\",\"increase coverage quality sanitation service casabo rincon del cerro\",\"expansion improvement sanitary sewer service city san lorenzo\",\"sewage sanitation service districts san miguel moreno expanded improved\",\"improved sanitation inside rural schools\",\"intermediate access population improved services ap sanitary sewage\",\"increased access safe sanitation rural population centers\",\"income billing sanitation fees increased montevideo\",\"expanded improved sanitation service coverage\",\"increase number households access wastewater treatment service\",\"sanitation system charge pcu operating maintained according technical design specifications\",\"increased collection service coverage\",\"sweep service coverage increased\",\"increase households treated wastewater coastal city\",\"sustainable water wastewater utility services provided bwa\",\"improved sewage system city san miguel de tucuman\",\"improvement treatment capacity ciudad del plata wastewater plant\",\"reduce contaminant load wastewater discharged receiving bodies\",\"access sanitation increased and\\u002for improved communities fewer 100,000 inhabitants\",\"approved municipal sanitation plans\",\"sanitation solutions implemented\",\"increase access sanitary sewerage wastewater treatment services amsj nationally\",\"improving access sanitation sustainable way six intermediate towns saint marc port de paix les cayes cap haitien jacmel ouanaminthe\",\"wastewater treatment plants upgraded wastewater treatment action plan prepared\",\"income irrigators beneficiaries increased program\",\"coverage basic sanitation expanded sanitary sewerage\",\"sewage collection basic sanitation company s\\u00e3o paulo sabesp metropolitan region s\\u00e3o paulo rmsp expanded\",\"reduce discharge wastewater berazategui plant rio de la plata\",\"households enabled connections sanitation networks manga casabo project area increased\",\"increased sanitation service coverage\",\"coverage sanitation services expanded improved\",\"sanitation coverage population city west coast increased\",\"flow collected treated increased wastewater treatment plants\",\"specific objective expand coverage sewerage wastewater treatment\",\"improved access sanitation services low income households program areas\",\"increase households new effective connections sanitation network coastal city\",\"improve reliability sanitation system city montevideo\",\"coverage understanding sewerage service area served sasp expanded rmsp\",\"improved treated wastewater quality\",\"increased sanitation coverage intervened cities neighborhoods\",\"sanitation system district moreno improved province buenos aires\",\"increase number households access sanitation services portovelo, macas, milagros, ambato san cristobal.\",\"access sanitation increased and\\u002for improved smaller intermediate cities inhabitants\",\"new households access improved sanitation services rural areas\",\"households new individual sanitation solution, latrines, septic tanks, etc. rural communities fewer 100,000 inhabitants\",\"improvement families heads household access sanitation services\",\"increased coverage sanitation services rural areas\",\"sanitation system district merlo improved province buenos aires\",\"expanded sanitation service coverage\",\"improved sewage sanitation service\",\"coverage sanitation systems extended and\\u002for improved\",\"increase coverage home sewage network service\",\"ii increase coverage sewage collection treatment\",\"sewage coverage sustainable systems increased\",\"access sanitary sewage service towns katari basin expanded\",\"increased access sanitary sewer\",\"improvement sanitary sewage service bay asuncion\",\"extended sewage effluent treatment coverage\",\"increase average flow available water intake sewer water treatment plant\",\"increased access sanitation\",\"improved sewage service coverage\",\"expanded coverage sanitation services\",\"increased sanitary sewer coverage\",\"sanitation coverage ipojuca river basin expanded\",\"improved sanitation system city san carlos de bariloche\",\"improved sanitation system city mar del plata\",\"sanitation coverage increased\",\"improved quality sanitation services\",\"new wastewater treatment plants san fernando malabar functioning according design\",\"water treatment plants operating maintenance according technical design specifications\",\"municipalities comply framework law water sanitation sector increased\",\"households enabled connection sanitation networks area \\u200b\\u200binfluence project\",\"wastewater treatment capacity upper area implemented\",\"households access sanitation networks area \\u200b\\u200binfluence project\",\"improvement access sewage network urban area \\u200b\\u200bthe municipality mocoa\",\"sewage system city san juan improved\",\"increased wastewater treatment capacity metropolitan area \\u200b\\u200bpanama city\",\"families served sewage treatment secondary level\",\"wastewater treatment towns katari basin improved\",\"sewage treatment basic sanitation company s\\u00e3o paulo sabesp metropolitan region s\\u00e3o paulo expanded\",\"households treated wastewater area \\u200b\\u200binfluence project\",\"catchment sewage residual waters section rg object increased intervention\",null],\"marker\":{\"opacity\":0.5,\"size\":5},\"mode\":\"markers+text\",\"name\":\"Sanitation, Coverage, and Wastewater Treatment\",\"text\":[\"\",\"\",\"\",\"\",\"\",\"\",\"\",\"\",\"\",\"\",\"\",\"\",\"\",\"\",\"\",\"\",\"\",\"\",\"\",\"\",\"\",\"\",\"\",\"\",\"\",\"\",\"\",\"\",\"\",\"\",\"\",\"\",\"\",\"\",\"\",\"\",\"\",\"\",\"\",\"\",\"\",\"\",\"\",\"\",\"\",\"\",\"\",\"\",\"\",\"\",\"\",\"\",\"\",\"\",\"\",\"\",\"\",\"\",\"\",\"\",\"\",\"\",\"\",\"\",\"\",\"\",\"\",\"\",\"\",\"\",\"\",\"\",\"\",\"\",\"\",\"\",\"\",\"\",\"\",\"\",\"\",\"\",\"\",\"Sanitation, Coverage, and Wastewater Treatment\"],\"textfont\":{\"size\":12},\"x\":[-0.1162237673997879,0.9727229475975037,0.8283724784851074,1.364992380142212,1.318055272102356,0.42164477705955505,1.868737816810608,0.5379683971405029,0.5629827380180359,1.3402905464172363,3.134726047515869,1.2693461179733276,1.5354245901107788,1.519855260848999,3.348891258239746,3.5983781814575195,1.3920999765396118,3.9457952976226807,3.82392954826355,0.6992806792259216,1.0279526710510254,1.0558316707611084,2.7761693000793457,0.5967143774032593,4.049044132232666,0.20659139752388,1.9043705463409424,0.9926474094390869,4.037969589233398,-0.19174249470233917,1.1059461832046509,1.3992280960083008,1.293211817741394,3.809642791748047,2.531933546066284,0.36745983362197876,-0.10777977854013443,0.5958094000816345,2.0128531455993652,3.934749126434326,1.1749321222305298,0.650783360004425,0.08700104057788849,0.8311229944229126,0.2636556327342987,0.6126927733421326,0.23734413087368011,0.6408554315567017,0.6817034482955933,1.5072087049484253,1.5316689014434814,1.2808188199996948,2.212691068649292,2.496298313140869,2.4771690368652344,1.7656608819961548,1.8697662353515625,1.2966089248657227,2.6450722217559814,3.2471048831939697,0.7255681157112122,2.3073086738586426,1.4969890117645264,2.0122804641723633,1.593225121498108,0.7296231985092163,0.6493523716926575,1.2950598001480103,0.8721038103103638,4.117076873779297,4.375015735626221,0.9809693694114685,-0.1579115241765976,3.800546646118164,-0.20364226400852203,1.7072515487670898,1.417374849319458,3.789243698120117,1.987777590751648,3.62591814994812,0.9527624845504761,3.380941867828369,2.628680944442749,1.6669822931289673],\"y\":[6.050541400909424,7.891880989074707,6.666730880737305,7.8007612228393555,7.863773345947266,6.112457752227783,7.259932518005371,5.936122894287109,7.5593581199646,6.530954837799072,5.9124956130981445,7.253117561340332,6.5124945640563965,6.475470542907715,5.722777366638184,5.496692180633545,7.9147210121154785,6.178440093994141,5.9159369468688965,5.855160713195801,6.716532230377197,7.011046886444092,6.0565338134765625,6.278109550476074,5.942161560058594,6.516093730926514,6.727419853210449,7.868984222412109,6.308253765106201,5.971532344818115,6.465433120727539,6.646572113037109,6.328000545501709,6.103684425354004,6.868268013000488,6.3165669441223145,6.062530994415283,7.735310077667236,6.775162696838379,5.897200107574463,6.340404510498047,7.735373020172119,6.408251762390137,6.010457515716553,5.998952865600586,5.775988578796387,6.225562572479248,6.114686012268066,7.776188850402832,6.549206256866455,7.479541778564453,6.766619682312012,6.989820957183838,7.046875476837158,7.051897048950195,5.882675647735596,6.915678024291992,7.95830774307251,6.904975414276123,6.354443550109863,6.470647811889648,7.182605743408203,6.656025409698486,6.818580627441406,5.84384298324585,7.6989850997924805,7.762277603149414,6.428698539733887,6.939281940460205,5.9713568687438965,5.668478488922119,6.414114952087402,5.998342514038086,6.091076374053955,5.959016799926758,7.517901420593262,7.94518518447876,6.11339807510376,7.323370933532715,5.666046142578125,7.871403217315674,5.736786842346191,6.960121154785156,6.636490821838379],\"type\":\"scattergl\"},{\"hoverinfo\":\"text\",\"hovertext\":[\"access collection disposal urban solid waste katari basin implemented\",\"ii infrastructure equipment increase recovery recycling levels improvement collection final disposal services\",\"increased use solid waste\",\"correct disposal solid waste improved\",\"waste disposal neighbourhood democratic councils ndcs improved\",\"fires le repentir formerly known mandela landfill stopped\",\"transportation proper disposal effluents berazategui outfall\",\"access collection disposal urban solid waste copacabana tihuanacu implemented\",\"increase improve collection recovery non-bulky recyclable waste\",\"increased rsu disposal landfill\",\"solid waste disposal improved\",\"waste solid waste rds adequately disposed projects benefited program\",\"increase adequate disposal urban solid waste\",null],\"marker\":{\"opacity\":0.5,\"size\":5},\"mode\":\"markers+text\",\"name\":\"Waste Solid Disposal and Collection\",\"text\":[\"\",\"\",\"\",\"\",\"\",\"\",\"\",\"\",\"\",\"\",\"\",\"\",\"\",\"Waste Solid Disposal and Collection\"],\"textfont\":{\"size\":12},\"x\":[-2.923316478729248,-2.93898344039917,-3.0967462062835693,-2.9916841983795166,-3.285599946975708,-3.126358985900879,-2.9055283069610596,-2.9549508094787598,-2.99543833732605,-3.1554250717163086,-3.1417124271392822,-3.2248051166534424,-3.158571481704712,-3.0691630840301514],\"y\":[5.241174221038818,5.398359775543213,5.356626033782959,5.19180965423584,5.230723857879639,5.329702854156494,5.264325141906738,5.287856101989746,5.406678199768066,5.329685211181641,5.296270370483398,5.324665069580078,5.281811237335205,5.3030524253845215],\"type\":\"scattergl\"}],                        {\"template\":{\"data\":{\"barpolar\":[{\"marker\":{\"line\":{\"color\":\"white\",\"width\":0.5},\"pattern\":{\"fillmode\":\"overlay\",\"size\":10,\"solidity\":0.2}},\"type\":\"barpolar\"}],\"bar\":[{\"error_x\":{\"color\":\"rgb(36,36,36)\"},\"error_y\":{\"color\":\"rgb(36,36,36)\"},\"marker\":{\"line\":{\"color\":\"white\",\"width\":0.5},\"pattern\":{\"fillmode\":\"overlay\",\"size\":10,\"solidity\":0.2}},\"type\":\"bar\"}],\"carpet\":[{\"aaxis\":{\"endlinecolor\":\"rgb(36,36,36)\",\"gridcolor\":\"white\",\"linecolor\":\"white\",\"minorgridcolor\":\"white\",\"startlinecolor\":\"rgb(36,36,36)\"},\"baxis\":{\"endlinecolor\":\"rgb(36,36,36)\",\"gridcolor\":\"white\",\"linecolor\":\"white\",\"minorgridcolor\":\"white\",\"startlinecolor\":\"rgb(36,36,36)\"},\"type\":\"carpet\"}],\"choropleth\":[{\"colorbar\":{\"outlinewidth\":1,\"tickcolor\":\"rgb(36,36,36)\",\"ticks\":\"outside\"},\"type\":\"choropleth\"}],\"contourcarpet\":[{\"colorbar\":{\"outlinewidth\":1,\"tickcolor\":\"rgb(36,36,36)\",\"ticks\":\"outside\"},\"type\":\"contourcarpet\"}],\"contour\":[{\"colorbar\":{\"outlinewidth\":1,\"tickcolor\":\"rgb(36,36,36)\",\"ticks\":\"outside\"},\"colorscale\":[[0.0,\"#440154\"],[0.1111111111111111,\"#482878\"],[0.2222222222222222,\"#3e4989\"],[0.3333333333333333,\"#31688e\"],[0.4444444444444444,\"#26828e\"],[0.5555555555555556,\"#1f9e89\"],[0.6666666666666666,\"#35b779\"],[0.7777777777777778,\"#6ece58\"],[0.8888888888888888,\"#b5de2b\"],[1.0,\"#fde725\"]],\"type\":\"contour\"}],\"heatmapgl\":[{\"colorbar\":{\"outlinewidth\":1,\"tickcolor\":\"rgb(36,36,36)\",\"ticks\":\"outside\"},\"colorscale\":[[0.0,\"#440154\"],[0.1111111111111111,\"#482878\"],[0.2222222222222222,\"#3e4989\"],[0.3333333333333333,\"#31688e\"],[0.4444444444444444,\"#26828e\"],[0.5555555555555556,\"#1f9e89\"],[0.6666666666666666,\"#35b779\"],[0.7777777777777778,\"#6ece58\"],[0.8888888888888888,\"#b5de2b\"],[1.0,\"#fde725\"]],\"type\":\"heatmapgl\"}],\"heatmap\":[{\"colorbar\":{\"outlinewidth\":1,\"tickcolor\":\"rgb(36,36,36)\",\"ticks\":\"outside\"},\"colorscale\":[[0.0,\"#440154\"],[0.1111111111111111,\"#482878\"],[0.2222222222222222,\"#3e4989\"],[0.3333333333333333,\"#31688e\"],[0.4444444444444444,\"#26828e\"],[0.5555555555555556,\"#1f9e89\"],[0.6666666666666666,\"#35b779\"],[0.7777777777777778,\"#6ece58\"],[0.8888888888888888,\"#b5de2b\"],[1.0,\"#fde725\"]],\"type\":\"heatmap\"}],\"histogram2dcontour\":[{\"colorbar\":{\"outlinewidth\":1,\"tickcolor\":\"rgb(36,36,36)\",\"ticks\":\"outside\"},\"colorscale\":[[0.0,\"#440154\"],[0.1111111111111111,\"#482878\"],[0.2222222222222222,\"#3e4989\"],[0.3333333333333333,\"#31688e\"],[0.4444444444444444,\"#26828e\"],[0.5555555555555556,\"#1f9e89\"],[0.6666666666666666,\"#35b779\"],[0.7777777777777778,\"#6ece58\"],[0.8888888888888888,\"#b5de2b\"],[1.0,\"#fde725\"]],\"type\":\"histogram2dcontour\"}],\"histogram2d\":[{\"colorbar\":{\"outlinewidth\":1,\"tickcolor\":\"rgb(36,36,36)\",\"ticks\":\"outside\"},\"colorscale\":[[0.0,\"#440154\"],[0.1111111111111111,\"#482878\"],[0.2222222222222222,\"#3e4989\"],[0.3333333333333333,\"#31688e\"],[0.4444444444444444,\"#26828e\"],[0.5555555555555556,\"#1f9e89\"],[0.6666666666666666,\"#35b779\"],[0.7777777777777778,\"#6ece58\"],[0.8888888888888888,\"#b5de2b\"],[1.0,\"#fde725\"]],\"type\":\"histogram2d\"}],\"histogram\":[{\"marker\":{\"line\":{\"color\":\"white\",\"width\":0.6}},\"type\":\"histogram\"}],\"mesh3d\":[{\"colorbar\":{\"outlinewidth\":1,\"tickcolor\":\"rgb(36,36,36)\",\"ticks\":\"outside\"},\"type\":\"mesh3d\"}],\"parcoords\":[{\"line\":{\"colorbar\":{\"outlinewidth\":1,\"tickcolor\":\"rgb(36,36,36)\",\"ticks\":\"outside\"}},\"type\":\"parcoords\"}],\"pie\":[{\"automargin\":true,\"type\":\"pie\"}],\"scatter3d\":[{\"line\":{\"colorbar\":{\"outlinewidth\":1,\"tickcolor\":\"rgb(36,36,36)\",\"ticks\":\"outside\"}},\"marker\":{\"colorbar\":{\"outlinewidth\":1,\"tickcolor\":\"rgb(36,36,36)\",\"ticks\":\"outside\"}},\"type\":\"scatter3d\"}],\"scattercarpet\":[{\"marker\":{\"colorbar\":{\"outlinewidth\":1,\"tickcolor\":\"rgb(36,36,36)\",\"ticks\":\"outside\"}},\"type\":\"scattercarpet\"}],\"scattergeo\":[{\"marker\":{\"colorbar\":{\"outlinewidth\":1,\"tickcolor\":\"rgb(36,36,36)\",\"ticks\":\"outside\"}},\"type\":\"scattergeo\"}],\"scattergl\":[{\"marker\":{\"colorbar\":{\"outlinewidth\":1,\"tickcolor\":\"rgb(36,36,36)\",\"ticks\":\"outside\"}},\"type\":\"scattergl\"}],\"scattermapbox\":[{\"marker\":{\"colorbar\":{\"outlinewidth\":1,\"tickcolor\":\"rgb(36,36,36)\",\"ticks\":\"outside\"}},\"type\":\"scattermapbox\"}],\"scatterpolargl\":[{\"marker\":{\"colorbar\":{\"outlinewidth\":1,\"tickcolor\":\"rgb(36,36,36)\",\"ticks\":\"outside\"}},\"type\":\"scatterpolargl\"}],\"scatterpolar\":[{\"marker\":{\"colorbar\":{\"outlinewidth\":1,\"tickcolor\":\"rgb(36,36,36)\",\"ticks\":\"outside\"}},\"type\":\"scatterpolar\"}],\"scatter\":[{\"fillpattern\":{\"fillmode\":\"overlay\",\"size\":10,\"solidity\":0.2},\"type\":\"scatter\"}],\"scatterternary\":[{\"marker\":{\"colorbar\":{\"outlinewidth\":1,\"tickcolor\":\"rgb(36,36,36)\",\"ticks\":\"outside\"}},\"type\":\"scatterternary\"}],\"surface\":[{\"colorbar\":{\"outlinewidth\":1,\"tickcolor\":\"rgb(36,36,36)\",\"ticks\":\"outside\"},\"colorscale\":[[0.0,\"#440154\"],[0.1111111111111111,\"#482878\"],[0.2222222222222222,\"#3e4989\"],[0.3333333333333333,\"#31688e\"],[0.4444444444444444,\"#26828e\"],[0.5555555555555556,\"#1f9e89\"],[0.6666666666666666,\"#35b779\"],[0.7777777777777778,\"#6ece58\"],[0.8888888888888888,\"#b5de2b\"],[1.0,\"#fde725\"]],\"type\":\"surface\"}],\"table\":[{\"cells\":{\"fill\":{\"color\":\"rgb(237,237,237)\"},\"line\":{\"color\":\"white\"}},\"header\":{\"fill\":{\"color\":\"rgb(217,217,217)\"},\"line\":{\"color\":\"white\"}},\"type\":\"table\"}]},\"layout\":{\"annotationdefaults\":{\"arrowhead\":0,\"arrowwidth\":1},\"autotypenumbers\":\"strict\",\"coloraxis\":{\"colorbar\":{\"outlinewidth\":1,\"tickcolor\":\"rgb(36,36,36)\",\"ticks\":\"outside\"}},\"colorscale\":{\"diverging\":[[0.0,\"rgb(103,0,31)\"],[0.1,\"rgb(178,24,43)\"],[0.2,\"rgb(214,96,77)\"],[0.3,\"rgb(244,165,130)\"],[0.4,\"rgb(253,219,199)\"],[0.5,\"rgb(247,247,247)\"],[0.6,\"rgb(209,229,240)\"],[0.7,\"rgb(146,197,222)\"],[0.8,\"rgb(67,147,195)\"],[0.9,\"rgb(33,102,172)\"],[1.0,\"rgb(5,48,97)\"]],\"sequential\":[[0.0,\"#440154\"],[0.1111111111111111,\"#482878\"],[0.2222222222222222,\"#3e4989\"],[0.3333333333333333,\"#31688e\"],[0.4444444444444444,\"#26828e\"],[0.5555555555555556,\"#1f9e89\"],[0.6666666666666666,\"#35b779\"],[0.7777777777777778,\"#6ece58\"],[0.8888888888888888,\"#b5de2b\"],[1.0,\"#fde725\"]],\"sequentialminus\":[[0.0,\"#440154\"],[0.1111111111111111,\"#482878\"],[0.2222222222222222,\"#3e4989\"],[0.3333333333333333,\"#31688e\"],[0.4444444444444444,\"#26828e\"],[0.5555555555555556,\"#1f9e89\"],[0.6666666666666666,\"#35b779\"],[0.7777777777777778,\"#6ece58\"],[0.8888888888888888,\"#b5de2b\"],[1.0,\"#fde725\"]]},\"colorway\":[\"#1F77B4\",\"#FF7F0E\",\"#2CA02C\",\"#D62728\",\"#9467BD\",\"#8C564B\",\"#E377C2\",\"#7F7F7F\",\"#BCBD22\",\"#17BECF\"],\"font\":{\"color\":\"rgb(36,36,36)\"},\"geo\":{\"bgcolor\":\"white\",\"lakecolor\":\"white\",\"landcolor\":\"white\",\"showlakes\":true,\"showland\":true,\"subunitcolor\":\"white\"},\"hoverlabel\":{\"align\":\"left\"},\"hovermode\":\"closest\",\"mapbox\":{\"style\":\"light\"},\"paper_bgcolor\":\"white\",\"plot_bgcolor\":\"white\",\"polar\":{\"angularaxis\":{\"gridcolor\":\"rgb(232,232,232)\",\"linecolor\":\"rgb(36,36,36)\",\"showgrid\":false,\"showline\":true,\"ticks\":\"outside\"},\"bgcolor\":\"white\",\"radialaxis\":{\"gridcolor\":\"rgb(232,232,232)\",\"linecolor\":\"rgb(36,36,36)\",\"showgrid\":false,\"showline\":true,\"ticks\":\"outside\"}},\"scene\":{\"xaxis\":{\"backgroundcolor\":\"white\",\"gridcolor\":\"rgb(232,232,232)\",\"gridwidth\":2,\"linecolor\":\"rgb(36,36,36)\",\"showbackground\":true,\"showgrid\":false,\"showline\":true,\"ticks\":\"outside\",\"zeroline\":false,\"zerolinecolor\":\"rgb(36,36,36)\"},\"yaxis\":{\"backgroundcolor\":\"white\",\"gridcolor\":\"rgb(232,232,232)\",\"gridwidth\":2,\"linecolor\":\"rgb(36,36,36)\",\"showbackground\":true,\"showgrid\":false,\"showline\":true,\"ticks\":\"outside\",\"zeroline\":false,\"zerolinecolor\":\"rgb(36,36,36)\"},\"zaxis\":{\"backgroundcolor\":\"white\",\"gridcolor\":\"rgb(232,232,232)\",\"gridwidth\":2,\"linecolor\":\"rgb(36,36,36)\",\"showbackground\":true,\"showgrid\":false,\"showline\":true,\"ticks\":\"outside\",\"zeroline\":false,\"zerolinecolor\":\"rgb(36,36,36)\"}},\"shapedefaults\":{\"fillcolor\":\"black\",\"line\":{\"width\":0},\"opacity\":0.3},\"ternary\":{\"aaxis\":{\"gridcolor\":\"rgb(232,232,232)\",\"linecolor\":\"rgb(36,36,36)\",\"showgrid\":false,\"showline\":true,\"ticks\":\"outside\"},\"baxis\":{\"gridcolor\":\"rgb(232,232,232)\",\"linecolor\":\"rgb(36,36,36)\",\"showgrid\":false,\"showline\":true,\"ticks\":\"outside\"},\"bgcolor\":\"white\",\"caxis\":{\"gridcolor\":\"rgb(232,232,232)\",\"linecolor\":\"rgb(36,36,36)\",\"showgrid\":false,\"showline\":true,\"ticks\":\"outside\"}},\"title\":{\"x\":0.05},\"xaxis\":{\"automargin\":true,\"gridcolor\":\"rgb(232,232,232)\",\"linecolor\":\"rgb(36,36,36)\",\"showgrid\":false,\"showline\":true,\"ticks\":\"outside\",\"title\":{\"standoff\":15},\"zeroline\":false,\"zerolinecolor\":\"rgb(36,36,36)\"},\"yaxis\":{\"automargin\":true,\"gridcolor\":\"rgb(232,232,232)\",\"linecolor\":\"rgb(36,36,36)\",\"showgrid\":false,\"showline\":true,\"ticks\":\"outside\",\"title\":{\"standoff\":15},\"zeroline\":false,\"zerolinecolor\":\"rgb(36,36,36)\"}}},\"shapes\":[{\"line\":{\"color\":\"#CFD8DC\",\"width\":2},\"type\":\"line\",\"x0\":2.648564714193344,\"x1\":2.648564714193344,\"y0\":-0.59533431828022,\"y1\":9.152053904533386},{\"line\":{\"color\":\"#9E9E9E\",\"width\":2},\"type\":\"line\",\"x0\":-3.778439939022064,\"x1\":9.075569367408752,\"y0\":4.278359793126583,\"y1\":4.278359793126583}],\"annotations\":[{\"showarrow\":false,\"text\":\"D1\",\"x\":-3.778439939022064,\"y\":4.278359793126583,\"yshift\":10},{\"showarrow\":false,\"text\":\"D2\",\"x\":2.648564714193344,\"xshift\":10,\"y\":9.152053904533386}],\"title\":{\"font\":{\"size\":22,\"color\":\"Black\"},\"text\":\"\\u003cb\\u003eDocuments and Topics\\u003c\\u002fb\\u003e\",\"x\":0.5,\"xanchor\":\"center\",\"yanchor\":\"top\"},\"width\":1200,\"height\":750,\"xaxis\":{\"visible\":false},\"yaxis\":{\"visible\":false}},                        {\"responsive\": true}                    ).then(function(){\n",
              "                            \n",
              "var gd = document.getElementById('574f5a55-876b-4e6a-b6d9-2719da9568b3');\n",
              "var x = new MutationObserver(function (mutations, observer) {{\n",
              "        var display = window.getComputedStyle(gd).display;\n",
              "        if (!display || display === 'none') {{\n",
              "            console.log([gd, 'removed!']);\n",
              "            Plotly.purge(gd);\n",
              "            observer.disconnect();\n",
              "        }}\n",
              "}});\n",
              "\n",
              "// Listen for the removal of the full notebook cells\n",
              "var notebookContainer = gd.closest('#notebook-container');\n",
              "if (notebookContainer) {{\n",
              "    x.observe(notebookContainer, {childList: true});\n",
              "}}\n",
              "\n",
              "// Listen for the clearing of the current output cell\n",
              "var outputEl = gd.closest('.output');\n",
              "if (outputEl) {{\n",
              "    x.observe(outputEl, {childList: true});\n",
              "}}\n",
              "\n",
              "                        })                };                            </script>        </div>\n",
              "</body>\n",
              "</html>"
            ]
          },
          "metadata": {}
        }
      ]
    },
    {
      "cell_type": "code",
      "source": [
        "# The similarity matrix and the CLusters Plot shows that it is not necessary to reduce the number of topics, Since the similarity is not high enough,\n",
        "# it is not necessary to reduce the number of topics."
      ],
      "metadata": {
        "id": "8s9oHyiWxkP1"
      },
      "execution_count": null,
      "outputs": []
    },
    {
      "cell_type": "code",
      "source": [
        "# Create DataFrames for Topics and Objectives\n",
        "# Create a DataFrame 'df_model' that combines the 'topics' (from BERTopic) and 'OBJECTIVE_NAME' columns.\n",
        "df_model = pd.DataFrame({\"Topics\": topics, \"OBJECTIVE_NAME\": OBJECTIVE_NAME})\n",
        "# Create a DataFrame 'model_topic_names' containing topic information including topic IDs and custom topic names.\n",
        "model_topic_names = pd.DataFrame({'Topics': topic_model.get_topic_info()['Topic'], 'Topic Name': topic_model.get_topic_info()['CustomName']})\n",
        "\n",
        "# Merge DataFrames\n",
        "# Merge the original DataFrame 'df' with 'df_model' based on the 'OBJECTIVE_NAME' column,\n",
        "# keeping only rows with matching objectives (inner join).\n",
        "df_merged = pd.merge(df, df_model, on='OBJECTIVE_NAME', how='inner')\n",
        "# Merge 'df_merged' with 'model_topic_names' based on the 'Topics' column, adding custom topic names to the result (left join).\n",
        "df_merged = pd.merge(df_merged, model_topic_names, on='Topics', how='left')\n",
        "\n"
      ],
      "metadata": {
        "id": "CbxWeoT3inDI"
      },
      "execution_count": 8,
      "outputs": []
    },
    {
      "cell_type": "code",
      "source": [
        "df_merged.to_csv(\"Excercise2_output_Navas-Gomez.csv\", index=False)"
      ],
      "metadata": {
        "id": "PYvxrGTX_zYW"
      },
      "execution_count": 9,
      "outputs": []
    }
  ]
}